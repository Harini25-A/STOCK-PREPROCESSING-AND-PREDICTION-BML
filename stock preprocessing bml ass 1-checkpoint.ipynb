{
 "cells": [
  {
   "cell_type": "code",
   "execution_count": 10,
   "id": "6937cbd1",
   "metadata": {},
   "outputs": [],
   "source": [
    "import pandas as pd # used for handling the dataset\n",
    "import numpy as np\n",
    "import matplotlib.pyplot as plt\n",
    "from sklearn.impute import SimpleImputer # used for handling missing data\n",
    "from sklearn.preprocessing import LabelEncoder, OneHotEncoder # used for encoding categorical DATA\n",
    "from sklearn.model_selection import train_test_split # used for splitting training and testing data\n",
    "from sklearn.preprocessing import StandardScaler # used for feature scaling"
   ]
  },
  {
   "cell_type": "code",
   "execution_count": 11,
   "id": "767549ee",
   "metadata": {},
   "outputs": [
    {
     "data": {
      "text/html": [
       "<div>\n",
       "<style scoped>\n",
       "    .dataframe tbody tr th:only-of-type {\n",
       "        vertical-align: middle;\n",
       "    }\n",
       "\n",
       "    .dataframe tbody tr th {\n",
       "        vertical-align: top;\n",
       "    }\n",
       "\n",
       "    .dataframe thead th {\n",
       "        text-align: right;\n",
       "    }\n",
       "</style>\n",
       "<table border=\"1\" class=\"dataframe\">\n",
       "  <thead>\n",
       "    <tr style=\"text-align: right;\">\n",
       "      <th></th>\n",
       "      <th>Date</th>\n",
       "      <th>Open</th>\n",
       "      <th>High</th>\n",
       "      <th>Low</th>\n",
       "      <th>Close</th>\n",
       "      <th>Adj_Close</th>\n",
       "      <th>Volume</th>\n",
       "    </tr>\n",
       "  </thead>\n",
       "  <tbody>\n",
       "    <tr>\n",
       "      <th>0</th>\n",
       "      <td>27-03-2000</td>\n",
       "      <td>3.812500</td>\n",
       "      <td>4.156250</td>\n",
       "      <td>3.812500</td>\n",
       "      <td>4.125000</td>\n",
       "      <td>4.125000</td>\n",
       "      <td>3675600.0</td>\n",
       "    </tr>\n",
       "    <tr>\n",
       "      <th>1</th>\n",
       "      <td>28-03-2000</td>\n",
       "      <td>4.125000</td>\n",
       "      <td>4.125000</td>\n",
       "      <td>4.000000</td>\n",
       "      <td>4.015625</td>\n",
       "      <td>4.015625</td>\n",
       "      <td>1077600.0</td>\n",
       "    </tr>\n",
       "    <tr>\n",
       "      <th>2</th>\n",
       "      <td>29-03-2000</td>\n",
       "      <td>4.000000</td>\n",
       "      <td>4.031250</td>\n",
       "      <td>3.953125</td>\n",
       "      <td>4.000000</td>\n",
       "      <td>4.000000</td>\n",
       "      <td>437200.0</td>\n",
       "    </tr>\n",
       "    <tr>\n",
       "      <th>3</th>\n",
       "      <td>30-03-2000</td>\n",
       "      <td>4.000000</td>\n",
       "      <td>4.000000</td>\n",
       "      <td>3.843750</td>\n",
       "      <td>3.843750</td>\n",
       "      <td>3.843750</td>\n",
       "      <td>1883600.0</td>\n",
       "    </tr>\n",
       "    <tr>\n",
       "      <th>4</th>\n",
       "      <td>31-03-2000</td>\n",
       "      <td>3.734375</td>\n",
       "      <td>3.734375</td>\n",
       "      <td>3.390625</td>\n",
       "      <td>3.390625</td>\n",
       "      <td>3.390625</td>\n",
       "      <td>7931600.0</td>\n",
       "    </tr>\n",
       "    <tr>\n",
       "      <th>...</th>\n",
       "      <td>...</td>\n",
       "      <td>...</td>\n",
       "      <td>...</td>\n",
       "      <td>...</td>\n",
       "      <td>...</td>\n",
       "      <td>...</td>\n",
       "      <td>...</td>\n",
       "    </tr>\n",
       "    <tr>\n",
       "      <th>4387</th>\n",
       "      <td>01-09-2017</td>\n",
       "      <td>113.790001</td>\n",
       "      <td>114.099998</td>\n",
       "      <td>112.790001</td>\n",
       "      <td>113.309998</td>\n",
       "      <td>113.309998</td>\n",
       "      <td>950000.0</td>\n",
       "    </tr>\n",
       "    <tr>\n",
       "      <th>4388</th>\n",
       "      <td>05-09-2017</td>\n",
       "      <td>112.519997</td>\n",
       "      <td>113.529999</td>\n",
       "      <td>111.160004</td>\n",
       "      <td>111.870003</td>\n",
       "      <td>111.870003</td>\n",
       "      <td>1805200.0</td>\n",
       "    </tr>\n",
       "    <tr>\n",
       "      <th>4389</th>\n",
       "      <td>06-09-2017</td>\n",
       "      <td>112.029999</td>\n",
       "      <td>112.489998</td>\n",
       "      <td>110.250000</td>\n",
       "      <td>112.230003</td>\n",
       "      <td>112.230003</td>\n",
       "      <td>2136700.0</td>\n",
       "    </tr>\n",
       "    <tr>\n",
       "      <th>4390</th>\n",
       "      <td>07-09-2017</td>\n",
       "      <td>112.459999</td>\n",
       "      <td>112.900002</td>\n",
       "      <td>112.000000</td>\n",
       "      <td>112.339996</td>\n",
       "      <td>112.339996</td>\n",
       "      <td>1251600.0</td>\n",
       "    </tr>\n",
       "    <tr>\n",
       "      <th>4391</th>\n",
       "      <td>08-09-2017</td>\n",
       "      <td>112.300003</td>\n",
       "      <td>114.790001</td>\n",
       "      <td>112.010002</td>\n",
       "      <td>113.190002</td>\n",
       "      <td>113.190002</td>\n",
       "      <td>1611700.0</td>\n",
       "    </tr>\n",
       "  </tbody>\n",
       "</table>\n",
       "<p>4392 rows × 7 columns</p>\n",
       "</div>"
      ],
      "text/plain": [
       "            Date        Open        High         Low       Close   Adj_Close  \\\n",
       "0     27-03-2000    3.812500    4.156250    3.812500    4.125000    4.125000   \n",
       "1     28-03-2000    4.125000    4.125000    4.000000    4.015625    4.015625   \n",
       "2     29-03-2000    4.000000    4.031250    3.953125    4.000000    4.000000   \n",
       "3     30-03-2000    4.000000    4.000000    3.843750    3.843750    3.843750   \n",
       "4     31-03-2000    3.734375    3.734375    3.390625    3.390625    3.390625   \n",
       "...          ...         ...         ...         ...         ...         ...   \n",
       "4387  01-09-2017  113.790001  114.099998  112.790001  113.309998  113.309998   \n",
       "4388  05-09-2017  112.519997  113.529999  111.160004  111.870003  111.870003   \n",
       "4389  06-09-2017  112.029999  112.489998  110.250000  112.230003  112.230003   \n",
       "4390  07-09-2017  112.459999  112.900002  112.000000  112.339996  112.339996   \n",
       "4391  08-09-2017  112.300003  114.790001  112.010002  113.190002  113.190002   \n",
       "\n",
       "         Volume  \n",
       "0     3675600.0  \n",
       "1     1077600.0  \n",
       "2      437200.0  \n",
       "3     1883600.0  \n",
       "4     7931600.0  \n",
       "...         ...  \n",
       "4387   950000.0  \n",
       "4388  1805200.0  \n",
       "4389  2136700.0  \n",
       "4390  1251600.0  \n",
       "4391  1611700.0  \n",
       "\n",
       "[4392 rows x 7 columns]"
      ]
     },
     "execution_count": 11,
     "metadata": {},
     "output_type": "execute_result"
    }
   ],
   "source": [
    "data = pd.read_csv('STOCK_WITH_MISSING.csv')\n",
    "data"
   ]
  },
  {
   "cell_type": "code",
   "execution_count": 12,
   "id": "8fdfcb77",
   "metadata": {},
   "outputs": [
    {
     "name": "stdout",
     "output_type": "stream",
     "text": [
      "              Open         High          Low        Close    Adj_Close  \\\n",
      "count  4391.000000  4390.000000  4390.000000  4390.000000  4391.000000   \n",
      "mean     30.568453    30.905507    30.250808    30.583992    30.578610   \n",
      "std      29.915597    30.212713    29.617189    29.907809    29.906514   \n",
      "min       3.296875     3.390625     3.000000     3.250000     3.250000   \n",
      "25%       8.722500     8.809375     8.635000     8.720625     8.715000   \n",
      "50%      14.770000    14.991250    14.665000    14.767500    14.767500   \n",
      "75%      42.547499    43.053750    42.088750    42.560000    42.549999   \n",
      "max     121.080002   121.750000   120.169998   121.360001   121.360001   \n",
      "\n",
      "             Volume  \n",
      "count  4.388000e+03  \n",
      "mean   1.884877e+06  \n",
      "std    1.622063e+06  \n",
      "min    1.904000e+05  \n",
      "25%    1.089300e+06  \n",
      "50%    1.539600e+06  \n",
      "75%    2.189500e+06  \n",
      "max    4.641260e+07  \n"
     ]
    }
   ],
   "source": [
    "print(data.describe())\n"
   ]
  },
  {
   "cell_type": "code",
   "execution_count": 13,
   "id": "36f44215",
   "metadata": {},
   "outputs": [
    {
     "name": "stdout",
     "output_type": "stream",
     "text": [
      "<class 'pandas.core.frame.DataFrame'>\n",
      "RangeIndex: 4392 entries, 0 to 4391\n",
      "Data columns (total 7 columns):\n",
      " #   Column     Non-Null Count  Dtype  \n",
      "---  ------     --------------  -----  \n",
      " 0   Date       4388 non-null   object \n",
      " 1   Open       4391 non-null   float64\n",
      " 2   High       4390 non-null   float64\n",
      " 3   Low        4390 non-null   float64\n",
      " 4   Close      4390 non-null   float64\n",
      " 5   Adj_Close  4391 non-null   float64\n",
      " 6   Volume     4388 non-null   float64\n",
      "dtypes: float64(6), object(1)\n",
      "memory usage: 240.3+ KB\n",
      "None\n"
     ]
    }
   ],
   "source": [
    "print(data.info())\n"
   ]
  },
  {
   "cell_type": "code",
   "execution_count": 14,
   "id": "2c117db6",
   "metadata": {
    "scrolled": true
   },
   "outputs": [
    {
     "name": "stdout",
     "output_type": "stream",
     "text": [
      "          Date      Open      High       Low     Close  Adj_Close      Volume\n",
      "0   27-03-2000  3.812500  4.156250  3.812500  4.125000   4.125000   3675600.0\n",
      "1   28-03-2000  4.125000  4.125000  4.000000  4.015625   4.015625   1077600.0\n",
      "2   29-03-2000  4.000000  4.031250  3.953125  4.000000   4.000000    437200.0\n",
      "3   30-03-2000  4.000000  4.000000  3.843750  3.843750   3.843750   1883600.0\n",
      "4   31-03-2000  3.734375  3.734375  3.390625  3.390625   3.390625   7931600.0\n",
      "5   03-04-2000  3.500000  3.703125  3.437500  3.437500   3.437500  11486800.0\n",
      "6   04-04-2000  3.531250  3.578125  3.093750  3.500000   3.500000  13136800.0\n",
      "7   05-04-2000  3.468750  3.562500  3.453125  3.484375   3.484375   6349600.0\n",
      "8   06-04-2000  3.500000  3.593750       NaN  3.578125   3.578125   7181200.0\n",
      "9   07-04-2000  3.593750  3.812500  3.593750  3.609375   3.609375  13904800.0\n",
      "10  10-04-2000  3.687500  3.750000  3.625000  3.640625   3.640625   5280800.0\n",
      "11         NaN  3.578125  3.656250  3.562500  3.578125   3.578125   6590000.0\n",
      "12  12-04-2000  3.546875  3.640625  3.531250  3.578125   3.578125   8546400.0\n",
      "13  13-04-2000  3.578125  3.656250  3.578125  3.613275   3.613275   6874400.0\n",
      "14  14-04-2000  3.609375  3.625000  3.531250  3.609375   3.609375   2626000.0\n",
      "15  17-04-2000  3.578125  3.609375  3.515625  3.562500   3.562500   2992000.0\n",
      "16  18-04-2000  3.609375  3.625000  3.484375  3.515625   3.515625   2896000.0\n",
      "17  19-04-2000  3.562500  3.656250  3.562500  3.593750   3.593750   4662400.0\n",
      "18  20-04-2000  3.578125  3.687500  3.562500  3.656250   3.656250   4558800.0\n",
      "19  24-04-2000  3.593750  3.656250  3.531250  3.562500   3.562500   3815200.0\n"
     ]
    }
   ],
   "source": [
    "\n",
    "print(data.head(20))\n"
   ]
  },
  {
   "cell_type": "code",
   "execution_count": 7,
   "id": "834af307",
   "metadata": {
    "scrolled": true
   },
   "outputs": [
    {
     "name": "stdout",
     "output_type": "stream",
     "text": [
      "         Date      Open      High       Low     Close  Adj_Close     Volume  \\\n",
      "0  27-03-2000  3.812500  4.156250  3.812500  4.125000   4.125000  3675600.0   \n",
      "1  28-03-2000  4.125000  4.125000  4.000000  4.015625   4.015625  1077600.0   \n",
      "2  29-03-2000  4.000000  4.031250  3.953125  4.000000   4.000000   437200.0   \n",
      "3  30-03-2000  4.000000  4.000000  3.843750  3.843750   3.843750  1883600.0   \n",
      "4  31-03-2000  3.734375  3.734375  3.390625  3.390625   3.390625  7931600.0   \n",
      "\n",
      "       high  \n",
      "0  4.156250  \n",
      "1  4.125000  \n",
      "2  4.031250  \n",
      "3  4.000000  \n",
      "4  3.734375  \n"
     ]
    }
   ],
   "source": [
    "data.dropna(inplace=True)\n",
    "data.fillna(-9999,inplace=True)\n",
    "data['high'] = data['High'].fillna(data['High'].mean())\n",
    "print(data.head())\n"
   ]
  },
  {
   "cell_type": "code",
   "execution_count": 8,
   "id": "3d12583d",
   "metadata": {},
   "outputs": [
    {
     "name": "stdout",
     "output_type": "stream",
     "text": [
      "          Date      Open      High       Low     Close  Adj_Close      Volume  \\\n",
      "0   27-03-2000  3.812500  4.156250  3.812500  4.125000   4.125000   3675600.0   \n",
      "1   28-03-2000  4.125000  4.125000  4.000000  4.015625   4.015625   1077600.0   \n",
      "2   29-03-2000  4.000000  4.031250  3.953125  4.000000   4.000000    437200.0   \n",
      "3   30-03-2000  4.000000  4.000000  3.843750  3.843750   3.843750   1883600.0   \n",
      "4   31-03-2000  3.734375  3.734375  3.390625  3.390625   3.390625   7931600.0   \n",
      "5   03-04-2000  3.500000  3.703125  3.437500  3.437500   3.437500  11486800.0   \n",
      "6   04-04-2000  3.531250  3.578125  3.093750  3.500000   3.500000  13136800.0   \n",
      "7   05-04-2000  3.468750  3.562500  3.453125  3.484375   3.484375   6349600.0   \n",
      "9   07-04-2000  3.593750  3.812500  3.593750  3.609375   3.609375  13904800.0   \n",
      "10  10-04-2000  3.687500  3.750000  3.625000  3.640625   3.640625   5280800.0   \n",
      "\n",
      "        high  \n",
      "0   4.156250  \n",
      "1   4.125000  \n",
      "2   4.031250  \n",
      "3   4.000000  \n",
      "4   3.734375  \n",
      "5   3.703125  \n",
      "6   3.578125  \n",
      "7   3.562500  \n",
      "9   3.812500  \n",
      "10  3.750000  \n"
     ]
    }
   ],
   "source": [
    "#fill the value by fillna()\n",
    "data.dropna(inplace=True)\n",
    "data.fillna(9999,inplace=True)\n",
    "print(data.head(10))\n"
   ]
  },
  {
   "cell_type": "code",
   "execution_count": 9,
   "id": "34211a1e",
   "metadata": {},
   "outputs": [
    {
     "name": "stdout",
     "output_type": "stream",
     "text": [
      "         Date      Open      High       Low     Close  Adj_Close     Volume  \\\n",
      "0  27-03-2000  3.812500  4.156250  3.812500  4.125000   4.125000  3675600.0   \n",
      "1  28-03-2000  4.125000  4.125000  4.000000  4.015625   4.015625  1077600.0   \n",
      "2  29-03-2000  4.000000  4.031250  3.953125  4.000000   4.000000   437200.0   \n",
      "3  30-03-2000  4.000000  4.000000  3.843750  3.843750   3.843750  1883600.0   \n",
      "4  31-03-2000  3.734375  3.734375  3.390625  3.390625   3.390625  7931600.0   \n",
      "\n",
      "       high  \n",
      "0  4.156250  \n",
      "1  4.125000  \n",
      "2  4.031250  \n",
      "3  4.000000  \n",
      "4  3.734375  \n"
     ]
    }
   ],
   "source": [
    "#fill the value with mean\n",
    "data['high'] = data['high'].fillna(data['high'].mean())\n",
    "print(data.head())"
   ]
  },
  {
   "cell_type": "code",
   "execution_count": 12,
   "id": "7362926a",
   "metadata": {},
   "outputs": [
    {
     "data": {
      "image/png": "[encoded data removed]",
      "text/plain": [
       "<Figure size 432x288 with 9 Axes>"
      ]
     },
     "metadata": {
      "needs_background": "light"
     },
     "output_type": "display_data"
    }
   ],
   "source": [
    "data.hist()\n",
    "plt.show()\n"
   ]
  },
  {
   "cell_type": "code",
   "execution_count": 15,
   "id": "9d7e6871",
   "metadata": {},
   "outputs": [
    {
     "data": {
      "image/png": "[encoded data removed]",
      "text/plain": [
       "<Figure size 432x288 with 1 Axes>"
      ]
     },
     "metadata": {
      "needs_background": "light"
     },
     "output_type": "display_data"
    }
   ],
   "source": [
    "plt.scatter(data.Close,data.Open,color=\"red\")\n",
    "plt.show()\n"
   ]
  },
  {
   "cell_type": "code",
   "execution_count": 17,
   "id": "14daf97a",
   "metadata": {},
   "outputs": [
    {
     "name": "stdout",
     "output_type": "stream",
     "text": [
      "Volume       0.048999\n",
      "Close        0.999805\n",
      "Adj_Close    0.999805\n",
      "Low          0.999899\n",
      "High         0.999907\n",
      "high         0.999907\n",
      "Open         1.000000\n",
      "Name: Open, dtype: float64\n"
     ]
    }
   ],
   "source": [
    " #to find the correlation value for each column\n",
    "cor =data.corr()\n",
    "print(cor['Open'].sort_values(ascending=True))"
   ]
  },
  {
   "cell_type": "markdown",
   "id": "41a0042c",
   "metadata": {},
   "source": [
    "## TO PREDICT THE STOCK MARKET AFTER 10 DAYS"
   ]
  },
  {
   "cell_type": "code",
   "execution_count": 18,
   "id": "80a6ddb8",
   "metadata": {},
   "outputs": [
    {
     "name": "stdout",
     "output_type": "stream",
     "text": [
      "         Date      Open      High       Low     Close  Adj_Close     Volume  \\\n",
      "0  27-03-2000  3.812500  4.156250  3.812500  4.125000   4.125000  3675600.0   \n",
      "1  28-03-2000  4.125000  4.125000  4.000000  4.015625   4.015625  1077600.0   \n",
      "2  29-03-2000  4.000000  4.031250  3.953125  4.000000   4.000000   437200.0   \n",
      "3  30-03-2000  4.000000  4.000000  3.843750  3.843750   3.843750  1883600.0   \n",
      "4  31-03-2000  3.734375  3.734375  3.390625  3.390625   3.390625  7931600.0   \n",
      "\n",
      "      label  \n",
      "0  3.687500  \n",
      "1  3.578125  \n",
      "2  3.546875  \n",
      "3  3.578125  \n",
      "4  3.609375  \n"
     ]
    }
   ],
   "source": [
    "days =10\n",
    "data['label']=data['Open'].shift(-days)\n",
    "print(data.head())\n"
   ]
  },
  {
   "cell_type": "code",
   "execution_count": 36,
   "id": "8a4047a2",
   "metadata": {},
   "outputs": [
    {
     "name": "stdout",
     "output_type": "stream",
     "text": [
      "         Date      Open      High       Low     Close  Adj_Close     Volume  \\\n",
      "0  27-03-2000  3.812500  4.156250  3.812500  4.125000   4.125000  3675600.0   \n",
      "1  28-03-2000  4.125000  4.125000  4.000000  4.015625   4.015625  1077600.0   \n",
      "2  29-03-2000  4.000000  4.031250  3.953125  4.000000   4.000000   437200.0   \n",
      "3  30-03-2000  4.000000  4.000000  3.843750  3.843750   3.843750  1883600.0   \n",
      "4  31-03-2000  3.734375  3.734375  3.390625  3.390625   3.390625  7931600.0   \n",
      "\n",
      "       high     label  \n",
      "0  4.156250  3.546875  \n",
      "1  4.125000  3.578125  \n",
      "2  4.031250  3.609375  \n",
      "3  4.000000  3.578125  \n",
      "4  3.734375  3.609375  \n"
     ]
    }
   ],
   "source": [
    "data.dropna(inplace=True)\n",
    "print(data.head())\n"
   ]
  },
  {
   "cell_type": "code",
   "execution_count": 19,
   "id": "e7853337",
   "metadata": {},
   "outputs": [
    {
     "name": "stdout",
     "output_type": "stream",
     "text": [
      "         Date      Open      High       Low     Close  Adj_Close     Volume  \\\n",
      "0  27-03-2000  3.812500  4.156250  3.812500  4.125000   4.125000  3675600.0   \n",
      "1  28-03-2000  4.125000  4.125000  4.000000  4.015625   4.015625  1077600.0   \n",
      "2  29-03-2000  4.000000  4.031250  3.953125  4.000000   4.000000   437200.0   \n",
      "3  30-03-2000  4.000000  4.000000  3.843750  3.843750   3.843750  1883600.0   \n",
      "4  31-03-2000  3.734375  3.734375  3.390625  3.390625   3.390625  7931600.0   \n",
      "\n",
      "      label  \n",
      "0  3.687500  \n",
      "1  3.578125  \n",
      "2  3.546875  \n",
      "3  3.578125  \n",
      "4  3.609375  \n",
      "3733\n",
      "659\n"
     ]
    },
    {
     "name": "stderr",
     "output_type": "stream",
     "text": [
      "C:\\Users\\Harini\\AppData\\Local\\Temp\\ipykernel_12604\\3884117950.py:5: FutureWarning: In a future version of pandas all arguments of DataFrame.drop except for the argument 'labels' will be keyword-only.\n",
      "  x =np.array(data.drop(['label'],1))\n"
     ]
    }
   ],
   "source": [
    "import sklearn.preprocessing\n",
    "days =10\n",
    "data['label']=data['Open'].shift(-days)\n",
    "print(data.head())\n",
    "x =np.array(data.drop(['label'],1))\n",
    "y = np.array(data['label'])\n",
    "\n",
    "#print(x)\n",
    "#print(y)\n",
    "x_train,x_test,y_train,y_test = train_test_split(x,y,test_size=0.15,random_state=4)\n",
    "print(len(x_train))\n",
    "print(len(x_test))"
   ]
  },
  {
   "cell_type": "code",
   "execution_count": null,
   "id": "1f90503a",
   "metadata": {},
   "outputs": [],
   "source": []
  }
 ],
 "metadata": {
  "kernelspec": {
   "display_name": "Python 3 (ipykernel)",
   "language": "python",
   "name": "python3"
  },
  "language_info": {
   "codemirror_mode": {
    "name": "ipython",
    "version": 3
   },
   "file_extension": ".py",
   "mimetype": "text/x-python",
   "name": "python",
   "nbconvert_exporter": "python",
   "pygments_lexer": "ipython3",
   "version": "3.9.12"
  }
 },
 "nbformat": 4,
 "nbformat_minor": 5
}
